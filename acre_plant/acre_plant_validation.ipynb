{
 "cells": [
  {
   "cell_type": "code",
   "execution_count": 118,
   "id": "ac75b696-99fa-42ad-9db2-860e2d6ebb16",
   "metadata": {},
   "outputs": [],
   "source": [
    "from pprint import pprint\n",
    "from frictionless import Schema, fields, describe, validate\n",
    "import os\n",
    "import pandas as pd"
   ]
  },
  {
   "cell_type": "code",
   "execution_count": 119,
   "id": "fa5bf776-e760-49b6-8379-4dbb32a19498",
   "metadata": {},
   "outputs": [],
   "source": [
    "# Frictionless will not accept an absolute path. You must give it relative paths\n",
    "# !dir\n",
    "directory = \"all_plant\"\n",
    "schema_file = \"acre_plant2.schema.yaml\"\n",
    "schema_file_two = \"acre_plant3.schema.yaml\""
   ]
  },
  {
   "cell_type": "code",
   "execution_count": 120,
   "id": "cf80b7e6-942a-41c0-af8e-bb5071ee2a41",
   "metadata": {},
   "outputs": [],
   "source": [
    "schema_one = Schema.from_descriptor(schema_file) # from a descriptor path\n",
    "schema_two = Schema.from_descriptor(schema_file_two) # from a descriptor path\n"
   ]
  },
  {
   "cell_type": "code",
   "execution_count": 121,
   "id": "f316358f",
   "metadata": {},
   "outputs": [],
   "source": [
    "schema_one_files={'count':0, 'fnames':[]}\n",
    "schema_two_files={'count':0, 'fnames':[]}\n",
    "\n"
   ]
  },
  {
   "cell_type": "code",
   "execution_count": 122,
   "id": "594e27c8",
   "metadata": {},
   "outputs": [],
   "source": [
    "def is_integer(value):\n",
    "    try:\n",
    "        int(value)\n",
    "        return True\n",
    "    except ValueError:\n",
    "        return False"
   ]
  },
  {
   "cell_type": "code",
   "execution_count": 123,
   "id": "14a8e1a5-a6bb-4484-bd66-e14ead33ee66",
   "metadata": {},
   "outputs": [],
   "source": [
    "def loop_through_files(directory, limit=None):\n",
    "    \"\"\"Loops through all files in a directory and prints their contents.\n",
    "\n",
    "    Args:\n",
    "        directory (str): The path to the directory containing the files.\n",
    "        limit (int, optional): The maximum number of files to process.\n",
    "            Defaults to None (no limit).\n",
    "    \"\"\"\n",
    "\n",
    "    if not os.path.isdir(directory):\n",
    "        raise ValueError(f\"Error: '{directory}' is not a valid directory.\")\n",
    "\n",
    "    file_count = 0\n",
    "    file_names = os.listdir(directory)\n",
    "    if(file_names):\n",
    "        file_names.sort(reverse=True)\n",
    "\n",
    "    print('Length of files in directory: ',len(file_names))\n",
    "\n",
    "    schema_one_count=schema_two_count=0\n",
    "\n",
    "    for filename in file_names:\n",
    "        if filename.startswith('.'):\n",
    "            continue  # Skip hidden files\n",
    "        if filename.endswith('.yaml'):\n",
    "            continue  # Skip schema\n",
    "        if filename.endswith('.ipynb'):\n",
    "            continue  # Skip ipynb files\n",
    "        field_no=filename.split('_')[2]\n",
    "        \n",
    "        if is_integer(field_no):\n",
    "            schema=schema_one\n",
    "\n",
    "            schema_one_count+=1\n",
    "            schema_one_files['count']=schema_one_count\n",
    "            schema_one_files['fnames'].append(filename)\n",
    "\n",
    "\n",
    "\n",
    "        else:\n",
    "            schema=schema_two\n",
    "            schema_two_count+=1\n",
    "            schema_two_files['count']=schema_two_count\n",
    "            schema_two_files['fnames'].append(filename)\n",
    "        \n",
    "        file_path = os.path.join(directory, filename)\n",
    "        if os.path.isfile(file_path): \n",
    "\n",
    "            df = pd.read_csv(file_path, encoding='mbcs')\n",
    "            \n",
    "            # Check for file that does not have empty soil type field\n",
    "            if not pd.isna(df['Soil Type'].iloc[0]):\n",
    "                print(f'{filename} does not have empty soil type field')\n",
    "\n",
    "\n",
    "            file_cols=list(df.columns)\n",
    "            schema_one_col=schema.field_names\n",
    "\n",
    "            if file_cols != schema_one_col:\n",
    "                print('File {filename} has a different column arrangement')\n",
    "\n",
    "            if set(file_cols) == set(schema_one_col):\n",
    "                df=df[schema_one_col]\n",
    "            \n",
    "            if limit is None or file_count < limit:\n",
    "                try:\n",
    "                    report = validate(df, schema=schema,limit_errors=3)\n",
    "                    print(\"{}. {} = {}\".format(file_count+1,file_path,report.valid))\n",
    "                    if(report.valid == False):\n",
    "                        pprint(report)\n",
    "                        return\n",
    "                    file_count += 1\n",
    "                except UnicodeDecodeError as e:\n",
    "                    print(f\"Error decoding file '{filename}': {e}\")\n",
    "                except Exception as e:\n",
    "                    print(f\"Error reading file '{filename}': {e}\")\n",
    "\n",
    "            if limit is not None and file_count >= limit:\n",
    "                break\n",
    "    return schema_one_count, schema_two_count"
   ]
  },
  {
   "cell_type": "code",
   "execution_count": 124,
   "id": "b5b1f8e9-3e49-499d-9577-9c88bb50bdcd",
   "metadata": {},
   "outputs": [
    {
     "name": "stdout",
     "output_type": "stream",
     "text": [
      "Length of files in directory:  192\n"
     ]
    }
   ],
   "source": [
    "# loop_through_files(directory, file_limit)\n",
    "schema_one_count, schema_two_count = loop_through_files(directory)"
   ]
  },
  {
   "cell_type": "code",
   "execution_count": 125,
   "id": "7f8fb7db",
   "metadata": {},
   "outputs": [],
   "source": [
    "# Erroe directory\n",
    "directory_path = 'error'\n",
    "\n",
    "# Get a list of all files in the directory\n",
    "error_files = [f for f in os.listdir(directory_path) if os.path.isfile(os.path.join(directory_path, f))]\n"
   ]
  },
  {
   "cell_type": "code",
   "execution_count": 126,
   "id": "64bdc944-377e-4e3c-9071-8b2e51173e7a",
   "metadata": {},
   "outputs": [],
   "source": [
    "\n",
    "all_files=[{schema_file:[schema_one_count,schema_one_files['fnames']]}, {schema_file_two:[schema_two_count, schema_two_files['fnames']]}, {'error':[len(error_files),error_files]}]\n",
    "\n",
    "with open('acre_plant_output.txt', 'w') as f:\n",
    "    f.write(str(all_files))"
   ]
  }
 ],
 "metadata": {
  "kernelspec": {
   "display_name": "Python 3 (ipykernel)",
   "language": "python",
   "name": "python3"
  },
  "language_info": {
   "codemirror_mode": {
    "name": "ipython",
    "version": 3
   },
   "file_extension": ".py",
   "mimetype": "text/x-python",
   "name": "python",
   "nbconvert_exporter": "python",
   "pygments_lexer": "ipython3",
   "version": "3.9.13"
  }
 },
 "nbformat": 4,
 "nbformat_minor": 5
}
